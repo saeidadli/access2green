{
 "cells": [
  {
   "cell_type": "code",
   "execution_count": null,
   "id": "90b42dfc",
   "metadata": {},
   "outputs": [],
   "source": [
    "import sys\n",
    "import pathlib\n",
    "\n",
    "import geopandas as gpd\n",
    "\n",
    "DIR = pathlib.Path('..')\n",
    "sys.path.append(str(DIR))\n",
    "\n",
    "import access2green as ag\n",
    "\n",
    "DATA_DIR = DIR/'data/'"
   ]
  },
  {
   "cell_type": "code",
   "execution_count": null,
   "id": "b95a0b92",
   "metadata": {},
   "outputs": [],
   "source": [
    "#read TAZs\n",
    "tazs = gpd.read_file(DATA_DIR/'auckland.geojson')"
   ]
  },
  {
   "cell_type": "code",
   "execution_count": null,
   "id": "59dd2b36",
   "metadata": {},
   "outputs": [],
   "source": [
    "gdf = ag.access2green(\n",
    "    tazs = tazs, #give TAZs polygons as geopandas\n",
    "    uid = 'SA12020_V1', #Column with unique id for each zone\n",
    ")"
   ]
  },
  {
   "cell_type": "code",
   "execution_count": null,
   "id": "ef3ab463",
   "metadata": {},
   "outputs": [],
   "source": [
    "gdf.to_file(DATA_DIR/'access2green.shp')"
   ]
  }
 ],
 "metadata": {
  "kernelspec": {
   "display_name": "Python 3 (ipykernel)",
   "language": "python",
   "name": "python3"
  },
  "language_info": {
   "codemirror_mode": {
    "name": "ipython",
    "version": 3
   },
   "file_extension": ".py",
   "mimetype": "text/x-python",
   "name": "python",
   "nbconvert_exporter": "python",
   "pygments_lexer": "ipython3",
   "version": "3.9.16"
  }
 },
 "nbformat": 4,
 "nbformat_minor": 5
}
